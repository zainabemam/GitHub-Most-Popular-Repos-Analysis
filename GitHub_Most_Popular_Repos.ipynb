{
  "nbformat": 4,
  "nbformat_minor": 0,
  "metadata": {
    "colab": {
      "provenance": [],
      "authorship_tag": "ABX9TyPgqqyNq5EQhJOUo4o7w9FX",
      "include_colab_link": true
    },
    "kernelspec": {
      "name": "python3",
      "display_name": "Python 3"
    },
    "language_info": {
      "name": "python"
    }
  },
  "cells": [
    {
      "cell_type": "markdown",
      "metadata": {
        "id": "view-in-github",
        "colab_type": "text"
      },
      "source": [
        "<a href=\"https://colab.research.google.com/github/zainabemam/GitHub-Most-Popular-Repos-Analysis/blob/main/GitHub_Most_Popular_Repos.ipynb\" target=\"_parent\"><img src=\"https://colab.research.google.com/assets/colab-badge.svg\" alt=\"Open In Colab\"/></a>"
      ]
    },
    {
      "cell_type": "code",
      "execution_count": 1,
      "metadata": {
        "colab": {
          "base_uri": "https://localhost:8080/"
        },
        "id": "YpN6XoTkoxl9",
        "outputId": "e86e6416-6285-43aa-8b6b-0ed289bb9f48"
      },
      "outputs": [
        {
          "output_type": "stream",
          "name": "stdout",
          "text": [
            "Reading package lists... Done\n",
            "Building dependency tree... Done\n",
            "Reading state information... Done\n",
            "The following additional packages will be installed:\n",
            "  fonts-dejavu-core fonts-dejavu-extra libatk-wrapper-java libatk-wrapper-java-jni libfontenc1\n",
            "  libice-dev libsm-dev libxkbfile1 libxt-dev libxtst6 libxxf86dga1 openjdk-11-jre x11-utils\n",
            "Suggested packages:\n",
            "  libice-doc libsm-doc libxt-doc openjdk-11-demo openjdk-11-source visualvm mesa-utils\n",
            "The following NEW packages will be installed:\n",
            "  fonts-dejavu-core fonts-dejavu-extra libatk-wrapper-java libatk-wrapper-java-jni libfontenc1\n",
            "  libice-dev libsm-dev libxkbfile1 libxt-dev libxtst6 libxxf86dga1 openjdk-11-jdk openjdk-11-jre\n",
            "  x11-utils\n",
            "0 upgraded, 14 newly installed, 0 to remove and 29 not upgraded.\n",
            "Need to get 5,522 kB of archives.\n",
            "After this operation, 15.8 MB of additional disk space will be used.\n",
            "Get:1 http://archive.ubuntu.com/ubuntu jammy/main amd64 fonts-dejavu-core all 2.37-2build1 [1,041 kB]\n",
            "Get:2 http://archive.ubuntu.com/ubuntu jammy/main amd64 fonts-dejavu-extra all 2.37-2build1 [2,041 kB]\n",
            "Get:3 http://archive.ubuntu.com/ubuntu jammy/main amd64 libfontenc1 amd64 1:1.1.4-1build3 [14.7 kB]\n",
            "Get:4 http://archive.ubuntu.com/ubuntu jammy/main amd64 libxkbfile1 amd64 1:1.1.0-1build3 [71.8 kB]\n",
            "Get:5 http://archive.ubuntu.com/ubuntu jammy/main amd64 libxtst6 amd64 2:1.2.3-1build4 [13.4 kB]\n",
            "Get:6 http://archive.ubuntu.com/ubuntu jammy/main amd64 libxxf86dga1 amd64 2:1.1.5-0ubuntu3 [12.6 kB]\n",
            "Get:7 http://archive.ubuntu.com/ubuntu jammy/main amd64 x11-utils amd64 7.7+5build2 [206 kB]\n",
            "Get:8 http://archive.ubuntu.com/ubuntu jammy/main amd64 libatk-wrapper-java all 0.38.0-5build1 [53.1 kB]\n",
            "Get:9 http://archive.ubuntu.com/ubuntu jammy/main amd64 libatk-wrapper-java-jni amd64 0.38.0-5build1 [49.0 kB]\n",
            "Get:10 http://archive.ubuntu.com/ubuntu jammy/main amd64 libice-dev amd64 2:1.0.10-1build2 [51.4 kB]\n",
            "Get:11 http://archive.ubuntu.com/ubuntu jammy/main amd64 libsm-dev amd64 2:1.2.3-1build2 [18.1 kB]\n",
            "Get:12 http://archive.ubuntu.com/ubuntu jammy/main amd64 libxt-dev amd64 1:1.2.1-1 [396 kB]\n",
            "Get:13 http://archive.ubuntu.com/ubuntu jammy-updates/main amd64 openjdk-11-jre amd64 11.0.26+4-1ubuntu1~22.04 [214 kB]\n",
            "Get:14 http://archive.ubuntu.com/ubuntu jammy-updates/main amd64 openjdk-11-jdk amd64 11.0.26+4-1ubuntu1~22.04 [1,341 kB]\n",
            "Fetched 5,522 kB in 1s (4,803 kB/s)\n",
            "Selecting previously unselected package fonts-dejavu-core.\n",
            "(Reading database ... 124947 files and directories currently installed.)\n",
            "Preparing to unpack .../00-fonts-dejavu-core_2.37-2build1_all.deb ...\n",
            "Unpacking fonts-dejavu-core (2.37-2build1) ...\n",
            "Selecting previously unselected package fonts-dejavu-extra.\n",
            "Preparing to unpack .../01-fonts-dejavu-extra_2.37-2build1_all.deb ...\n",
            "Unpacking fonts-dejavu-extra (2.37-2build1) ...\n",
            "Selecting previously unselected package libfontenc1:amd64.\n",
            "Preparing to unpack .../02-libfontenc1_1%3a1.1.4-1build3_amd64.deb ...\n",
            "Unpacking libfontenc1:amd64 (1:1.1.4-1build3) ...\n",
            "Selecting previously unselected package libxkbfile1:amd64.\n",
            "Preparing to unpack .../03-libxkbfile1_1%3a1.1.0-1build3_amd64.deb ...\n",
            "Unpacking libxkbfile1:amd64 (1:1.1.0-1build3) ...\n",
            "Selecting previously unselected package libxtst6:amd64.\n",
            "Preparing to unpack .../04-libxtst6_2%3a1.2.3-1build4_amd64.deb ...\n",
            "Unpacking libxtst6:amd64 (2:1.2.3-1build4) ...\n",
            "Selecting previously unselected package libxxf86dga1:amd64.\n",
            "Preparing to unpack .../05-libxxf86dga1_2%3a1.1.5-0ubuntu3_amd64.deb ...\n",
            "Unpacking libxxf86dga1:amd64 (2:1.1.5-0ubuntu3) ...\n",
            "Selecting previously unselected package x11-utils.\n",
            "Preparing to unpack .../06-x11-utils_7.7+5build2_amd64.deb ...\n",
            "Unpacking x11-utils (7.7+5build2) ...\n",
            "Selecting previously unselected package libatk-wrapper-java.\n",
            "Preparing to unpack .../07-libatk-wrapper-java_0.38.0-5build1_all.deb ...\n",
            "Unpacking libatk-wrapper-java (0.38.0-5build1) ...\n",
            "Selecting previously unselected package libatk-wrapper-java-jni:amd64.\n",
            "Preparing to unpack .../08-libatk-wrapper-java-jni_0.38.0-5build1_amd64.deb ...\n",
            "Unpacking libatk-wrapper-java-jni:amd64 (0.38.0-5build1) ...\n",
            "Selecting previously unselected package libice-dev:amd64.\n",
            "Preparing to unpack .../09-libice-dev_2%3a1.0.10-1build2_amd64.deb ...\n",
            "Unpacking libice-dev:amd64 (2:1.0.10-1build2) ...\n",
            "Selecting previously unselected package libsm-dev:amd64.\n",
            "Preparing to unpack .../10-libsm-dev_2%3a1.2.3-1build2_amd64.deb ...\n",
            "Unpacking libsm-dev:amd64 (2:1.2.3-1build2) ...\n",
            "Selecting previously unselected package libxt-dev:amd64.\n",
            "Preparing to unpack .../11-libxt-dev_1%3a1.2.1-1_amd64.deb ...\n",
            "Unpacking libxt-dev:amd64 (1:1.2.1-1) ...\n",
            "Selecting previously unselected package openjdk-11-jre:amd64.\n",
            "Preparing to unpack .../12-openjdk-11-jre_11.0.26+4-1ubuntu1~22.04_amd64.deb ...\n",
            "Unpacking openjdk-11-jre:amd64 (11.0.26+4-1ubuntu1~22.04) ...\n",
            "Selecting previously unselected package openjdk-11-jdk:amd64.\n",
            "Preparing to unpack .../13-openjdk-11-jdk_11.0.26+4-1ubuntu1~22.04_amd64.deb ...\n",
            "Unpacking openjdk-11-jdk:amd64 (11.0.26+4-1ubuntu1~22.04) ...\n",
            "Setting up libice-dev:amd64 (2:1.0.10-1build2) ...\n",
            "Setting up libsm-dev:amd64 (2:1.2.3-1build2) ...\n",
            "Setting up libxtst6:amd64 (2:1.2.3-1build4) ...\n",
            "Setting up libxxf86dga1:amd64 (2:1.1.5-0ubuntu3) ...\n",
            "Setting up openjdk-11-jre:amd64 (11.0.26+4-1ubuntu1~22.04) ...\n",
            "Setting up libfontenc1:amd64 (1:1.1.4-1build3) ...\n",
            "Setting up libxt-dev:amd64 (1:1.2.1-1) ...\n",
            "Setting up fonts-dejavu-core (2.37-2build1) ...\n",
            "Setting up fonts-dejavu-extra (2.37-2build1) ...\n",
            "Setting up openjdk-11-jdk:amd64 (11.0.26+4-1ubuntu1~22.04) ...\n",
            "update-alternatives: using /usr/lib/jvm/java-11-openjdk-amd64/bin/jconsole to provide /usr/bin/jconsole (jconsole) in auto mode\n",
            "Setting up libxkbfile1:amd64 (1:1.1.0-1build3) ...\n",
            "Setting up x11-utils (7.7+5build2) ...\n",
            "Setting up libatk-wrapper-java (0.38.0-5build1) ...\n",
            "Setting up libatk-wrapper-java-jni:amd64 (0.38.0-5build1) ...\n",
            "Processing triggers for fontconfig (2.13.1-4.2ubuntu5) ...\n",
            "Processing triggers for hicolor-icon-theme (0.17-2) ...\n",
            "Processing triggers for libc-bin (2.35-0ubuntu3.8) ...\n",
            "/sbin/ldconfig.real: /usr/local/lib/libtbbbind_2_5.so.3 is not a symbolic link\n",
            "\n",
            "/sbin/ldconfig.real: /usr/local/lib/libtcm.so.1 is not a symbolic link\n",
            "\n",
            "/sbin/ldconfig.real: /usr/local/lib/libtbbbind.so.3 is not a symbolic link\n",
            "\n",
            "/sbin/ldconfig.real: /usr/local/lib/libtbbbind_2_0.so.3 is not a symbolic link\n",
            "\n",
            "/sbin/ldconfig.real: /usr/local/lib/libur_adapter_opencl.so.0 is not a symbolic link\n",
            "\n",
            "/sbin/ldconfig.real: /usr/local/lib/libtbbmalloc.so.2 is not a symbolic link\n",
            "\n",
            "/sbin/ldconfig.real: /usr/local/lib/libtbbmalloc_proxy.so.2 is not a symbolic link\n",
            "\n",
            "/sbin/ldconfig.real: /usr/local/lib/libhwloc.so.15 is not a symbolic link\n",
            "\n",
            "/sbin/ldconfig.real: /usr/local/lib/libtbb.so.12 is not a symbolic link\n",
            "\n",
            "/sbin/ldconfig.real: /usr/local/lib/libur_loader.so.0 is not a symbolic link\n",
            "\n",
            "/sbin/ldconfig.real: /usr/local/lib/libumf.so.0 is not a symbolic link\n",
            "\n",
            "/sbin/ldconfig.real: /usr/local/lib/libur_adapter_level_zero.so.0 is not a symbolic link\n",
            "\n",
            "/sbin/ldconfig.real: /usr/local/lib/libtcm_debug.so.1 is not a symbolic link\n",
            "\n",
            "Processing triggers for man-db (2.10.2-1) ...\n",
            "Processing triggers for mailcap (3.70+nmu1ubuntu1) ...\n",
            "Collecting findspark\n",
            "  Downloading findspark-2.0.1-py2.py3-none-any.whl.metadata (352 bytes)\n",
            "Downloading findspark-2.0.1-py2.py3-none-any.whl (4.4 kB)\n",
            "Installing collected packages: findspark\n",
            "Successfully installed findspark-2.0.1\n"
          ]
        }
      ],
      "source": [
        "!apt-get install openjdk-11-jdk -y\n",
        "!wget -qO - https://archive.apache.org/dist/spark/spark-3.2.1/spark-3.2.1-bin-hadoop3.2.tgz | tar -xz\n",
        "!pip install findspark\n"
      ]
    },
    {
      "cell_type": "code",
      "source": [
        "import os\n",
        "os.environ[\"JAVA_HOME\"] = \"/usr/lib/jvm/java-11-openjdk-amd64\"\n",
        "os.environ[\"SPARK_HOME\"] = \"/content/spark-3.2.1-bin-hadoop3.2\"\n"
      ],
      "metadata": {
        "id": "Buts_GSwrklv"
      },
      "execution_count": 2,
      "outputs": []
    },
    {
      "cell_type": "code",
      "source": [
        "import findspark\n",
        "findspark.init()\n",
        "from pyspark.sql import SparkSession\n",
        "\n",
        "spark = SparkSession.builder.master(\"local[*]\").appName(\"GitHubReposAnalysis\").getOrCreate()\n"
      ],
      "metadata": {
        "id": "jNshQvg-rzpr"
      },
      "execution_count": 3,
      "outputs": []
    },
    {
      "cell_type": "code",
      "source": [
        "import kagglehub\n",
        "\n",
        "# Download latest version\n",
        "path = kagglehub.dataset_download(\"anshulmehtakaggl/top-1000-github-repositories-for-multiple-domains\")\n",
        "\n",
        "print(\"Path to dataset files:\", path)"
      ],
      "metadata": {
        "colab": {
          "base_uri": "https://localhost:8080/"
        },
        "id": "v876dNUSsBJ2",
        "outputId": "bdb074e4-184f-4a3e-b5e4-a154ba4b4921"
      },
      "execution_count": 4,
      "outputs": [
        {
          "output_type": "stream",
          "name": "stdout",
          "text": [
            "Downloading from https://www.kaggle.com/api/v1/datasets/download/anshulmehtakaggl/top-1000-github-repositories-for-multiple-domains?dataset_version_number=53...\n"
          ]
        },
        {
          "output_type": "stream",
          "name": "stderr",
          "text": [
            "100%|██████████| 5.92M/5.92M [00:00<00:00, 8.73MB/s]"
          ]
        },
        {
          "output_type": "stream",
          "name": "stdout",
          "text": [
            "Extracting files...\n"
          ]
        },
        {
          "output_type": "stream",
          "name": "stderr",
          "text": [
            "\n"
          ]
        },
        {
          "output_type": "stream",
          "name": "stdout",
          "text": [
            "Path to dataset files: /root/.cache/kagglehub/datasets/anshulmehtakaggl/top-1000-github-repositories-for-multiple-domains/versions/53\n"
          ]
        }
      ]
    },
    {
      "cell_type": "code",
      "source": [
        "df = spark.read.json(\"/root/.cache/kagglehub/datasets/anshulmehtakaggl/top-1000-github-repositories-for-multiple-domains/versions/53/*.json\")\n",
        "\n"
      ],
      "metadata": {
        "id": "gnkkwVPRsioC"
      },
      "execution_count": 5,
      "outputs": []
    },
    {
      "cell_type": "code",
      "source": [
        "df.printSchema()\n"
      ],
      "metadata": {
        "colab": {
          "base_uri": "https://localhost:8080/"
        },
        "id": "JjQ4hGtHvYNM",
        "outputId": "3bf118aa-e54c-4cd1-f2d6-28ee2d86f6c2"
      },
      "execution_count": 6,
      "outputs": [
        {
          "output_type": "stream",
          "name": "stdout",
          "text": [
            "root\n",
            " |-- _corrupt_record: string (nullable = true)\n",
            " |-- created: string (nullable = true)\n",
            " |-- description: string (nullable = true)\n",
            " |-- forks: long (nullable = true)\n",
            " |-- full_name: string (nullable = true)\n",
            " |-- id: long (nullable = true)\n",
            " |-- language: string (nullable = true)\n",
            " |-- open_issues: long (nullable = true)\n",
            " |-- repo_name: string (nullable = true)\n",
            " |-- stars: long (nullable = true)\n",
            " |-- subscribers: long (nullable = true)\n",
            " |-- topics: array (nullable = true)\n",
            " |    |-- element: string (containsNull = true)\n",
            " |-- type: string (nullable = true)\n",
            " |-- username: string (nullable = true)\n",
            "\n"
          ]
        }
      ]
    },
    {
      "cell_type": "code",
      "source": [
        "df.show(5)"
      ],
      "metadata": {
        "colab": {
          "base_uri": "https://localhost:8080/"
        },
        "id": "QD96TBQpveQn",
        "outputId": "da4adc55-9bcd-4799-e1cc-2bdda47b151b"
      },
      "execution_count": 7,
      "outputs": [
        {
          "output_type": "stream",
          "name": "stdout",
          "text": [
            "+---------------+-------------------+--------------------+-----+--------------------+---------+--------+-----------+-----------------+-----+-----------+--------------------+------------+---------+\n",
            "|_corrupt_record|            created|         description|forks|           full_name|       id|language|open_issues|        repo_name|stars|subscribers|              topics|        type| username|\n",
            "+---------------+-------------------+--------------------+-----+--------------------+---------+--------+-----------+-----------------+-----+-----------+--------------------+------------+---------+\n",
            "|           null|2014-02-25 08:00:08|Apache Spark - A ...|25357|        apache/spark| 17165658|   Scala|        242|            spark|32296|       2080|[python, scala, r...|Organization|   apache|\n",
            "|           null|2017-08-09 19:39:59|Distributed train...| 2027|     horovod/horovod| 99846383|  Python|        298|          horovod|12219|        334|[tensorflow, uber...|Organization|  horovod|\n",
            "|           null|2014-08-08 07:30:51|Notes talking abo...| 1773|JerryLead/SparkIn...| 22749672|    null|         27|   SparkInternals| 4774|        619|                  []|        User|JerryLead|\n",
            "|           null|2019-04-22 18:56:51|An open-source st...|  985|      delta-io/delta|182849188|   Scala|        180|            delta| 4164|        188|[spark, acid, big...|Organization| delta-io|\n",
            "|           null|2017-01-20 18:15:57|TensorFlowOnSpark...|  966|yahoo/TensorFlowO...| 79584587|  Python|          6|TensorFlowOnSpark| 3768|        286|[tensorflow, spar...|Organization|    yahoo|\n",
            "+---------------+-------------------+--------------------+-----+--------------------+---------+--------+-----------+-----------------+-----+-----------+--------------------+------------+---------+\n",
            "only showing top 5 rows\n",
            "\n"
          ]
        }
      ]
    },
    {
      "cell_type": "code",
      "source": [
        "# \"programming_lang\"\n",
        "from pyspark.sql.functions import col, count\n",
        "\n",
        "programming_lang_df = df.groupBy(\"language\").agg(count(\"*\").alias(\"repo_count\"))\n",
        "programming_lang_df = programming_lang_df.filter(col(\"language\").isNotNull())\n",
        "programming_lang_df.show()\n"
      ],
      "metadata": {
        "colab": {
          "base_uri": "https://localhost:8080/"
        },
        "id": "NDw3Vsg2vtiu",
        "outputId": "8fbc41a8-d282-4e4a-f890-d9edb0d176ec"
      },
      "execution_count": 8,
      "outputs": [
        {
          "output_type": "stream",
          "name": "stdout",
          "text": [
            "+----------------+----------+\n",
            "|        language|repo_count|\n",
            "+----------------+----------+\n",
            "|              C#|       336|\n",
            "|            Less|         5|\n",
            "|           Terra|         1|\n",
            "|            Hack|         1|\n",
            "|Rich Text Format|         3|\n",
            "|        Makefile|        36|\n",
            "|        Starlark|         6|\n",
            "|             VBA|         3|\n",
            "|            Cuda|        12|\n",
            "|        Markdown|         3|\n",
            "|             Arc|         1|\n",
            "|             SMT|         1|\n",
            "|            LLVM|         2|\n",
            "|        ReScript|         5|\n",
            "|           Metal|         1|\n",
            "|            Haxe|         4|\n",
            "|            Rust|       165|\n",
            "|      JavaScript|      5293|\n",
            "|            SCSS|        31|\n",
            "|      Emacs Lisp|        18|\n",
            "+----------------+----------+\n",
            "only showing top 20 rows\n",
            "\n"
          ]
        }
      ]
    },
    {
      "cell_type": "code",
      "source": [
        "# \"organizations_stars\"\n",
        "from pyspark.sql.functions import sum\n",
        "\n",
        "organizations_stars_df = df.filter(df.type == \"Organization\") \\\n",
        "    .groupBy(\"username\").agg(sum(\"stars\").alias(\"total_stars\"))\n",
        "organizations_stars_df.show()\n"
      ],
      "metadata": {
        "colab": {
          "base_uri": "https://localhost:8080/"
        },
        "id": "vVcOPyEf7SUH",
        "outputId": "43870728-2e26-4d46-ea6c-427b03247780"
      },
      "execution_count": 10,
      "outputs": [
        {
          "output_type": "stream",
          "name": "stdout",
          "text": [
            "+----------------+-----------+\n",
            "|        username|total_stars|\n",
            "+----------------+-----------+\n",
            "|            didi|       4914|\n",
            "|        deepmipt|      16875|\n",
            "|        blei-lab|      14079|\n",
            "|          GPflow|       4786|\n",
            "|        catchorg|      14637|\n",
            "|AtomicGameEngine|       5249|\n",
            "|    CryptoSignal|       3977|\n",
            "|        web3labs|        308|\n",
            "|         blossom|        117|\n",
            "|   reacttips-dev|       1039|\n",
            "|        twosigma|       6150|\n",
            "|     intel-spark|         91|\n",
            "|            RXNT|        223|\n",
            "| ml-in-barcelona|        117|\n",
            "|         ngs-doo|       2334|\n",
            "|   dotanuki-labs|        425|\n",
            "|           rotki|       1615|\n",
            "|         easzlab|      15671|\n",
            "|       theonedev|      13727|\n",
            "| opensourceteams|        190|\n",
            "+----------------+-----------+\n",
            "only showing top 20 rows\n",
            "\n"
          ]
        }
      ]
    },
    {
      "cell_type": "code",
      "source": [
        "# \"search_terms_relevance\"\n",
        "\n",
        "from pyspark.sql.functions import expr\n",
        "\n",
        "relevance_formula = \"1.5 * forks + 1.32 * subscribers + 1.04 * stars\"\n",
        "search_terms_df = df.withColumn(\"relevance_score\", expr(relevance_formula)) \\\n",
        "                    .select(col(\"repo_name\"), col(\"relevance_score\"))\n",
        "search_terms_df.show()\n"
      ],
      "metadata": {
        "id": "Fbv0R29qFQir",
        "colab": {
          "base_uri": "https://localhost:8080/"
        },
        "outputId": "d109526b-779e-4f86-ab6a-9952865f1967"
      },
      "execution_count": 11,
      "outputs": [
        {
          "output_type": "stream",
          "name": "stdout",
          "text": [
            "+--------------------+---------------+\n",
            "|           repo_name|relevance_score|\n",
            "+--------------------+---------------+\n",
            "|               spark|       74368.94|\n",
            "|             horovod|       16189.14|\n",
            "|      SparkInternals|        8441.54|\n",
            "|               delta|        6056.22|\n",
            "|   TensorFlowOnSpark|        5745.24|\n",
            "|              koalas|        4011.34|\n",
            "|     spark-jobserver|        4671.26|\n",
            "|       analytics-zoo|        3787.96|\n",
            "|            ballista|        2692.12|\n",
            "|               deequ|        2920.22|\n",
            "|       TransmogrifAI|        2938.76|\n",
            "|                vega|        2530.74|\n",
            "| spark-deep-learning|        2928.80|\n",
            "|spark-on-k8s-oper...|        3460.54|\n",
            "|                oryx|        2768.32|\n",
            "|               spark|        2329.08|\n",
            "|        docker-spark|        2794.42|\n",
            "|          elassandra|        2109.80|\n",
            "|  spark-py-notebooks|        2966.74|\n",
            "|          carbondata|        2577.14|\n",
            "+--------------------+---------------+\n",
            "only showing top 20 rows\n",
            "\n"
          ]
        }
      ]
    },
    {
      "cell_type": "code",
      "source": [
        "import sqlite3\n",
        "\n",
        "db_path = \"github_repos.db\"\n",
        "conn = sqlite3.connect(db_path)\n",
        "cursor = conn.cursor()\n"
      ],
      "metadata": {
        "id": "H9yytkMYh5sD"
      },
      "execution_count": 12,
      "outputs": []
    },
    {
      "cell_type": "code",
      "source": [
        "programming_lang_df_pandas = programming_lang_df.toPandas()\n",
        "programming_lang_df_pandas.to_sql(\"programming_lang\", conn, if_exists=\"replace\", index=False)\n"
      ],
      "metadata": {
        "id": "tX3tmsC_h71w",
        "colab": {
          "base_uri": "https://localhost:8080/"
        },
        "outputId": "97b6fa15-035b-4673-e41c-713344427ddb"
      },
      "execution_count": 13,
      "outputs": [
        {
          "output_type": "execute_result",
          "data": {
            "text/plain": [
              "135"
            ]
          },
          "metadata": {},
          "execution_count": 13
        }
      ]
    },
    {
      "cell_type": "code",
      "source": [
        "organizations_stars_df_pandas = organizations_stars_df.toPandas()\n",
        "organizations_stars_df_pandas.to_sql(\"organizations_stars\", conn, if_exists=\"replace\", index=False)\n"
      ],
      "metadata": {
        "id": "TThVfAUWiBsH",
        "colab": {
          "base_uri": "https://localhost:8080/"
        },
        "outputId": "d8c72d71-249a-4882-8860-6bc33204ba2c"
      },
      "execution_count": 14,
      "outputs": [
        {
          "output_type": "execute_result",
          "data": {
            "text/plain": [
              "5627"
            ]
          },
          "metadata": {},
          "execution_count": 14
        }
      ]
    },
    {
      "cell_type": "code",
      "source": [
        "search_terms_df_pandas = search_terms_df.toPandas()\n",
        "# convert the Decimal objects to a type that SQLite understands, like float\n",
        "search_terms_df_pandas['relevance_score'] = search_terms_df_pandas['relevance_score'].astype(float)\n",
        "search_terms_df_pandas.to_sql(\"search_terms_relevance\", conn, if_exists=\"replace\", index=False)\n"
      ],
      "metadata": {
        "id": "Qq7tG8B_iGn9",
        "colab": {
          "base_uri": "https://localhost:8080/"
        },
        "outputId": "3138e7c1-5d3f-4d99-a566-c90768e3d21b"
      },
      "execution_count": 16,
      "outputs": [
        {
          "output_type": "execute_result",
          "data": {
            "text/plain": [
              "27281"
            ]
          },
          "metadata": {},
          "execution_count": 16
        }
      ]
    },
    {
      "cell_type": "code",
      "source": [
        "query = \"SELECT * FROM programming_lang LIMIT 5;\"\n",
        "cursor.execute(query)\n",
        "print(cursor.fetchall())\n"
      ],
      "metadata": {
        "id": "tWwsWY7ziMK8",
        "colab": {
          "base_uri": "https://localhost:8080/"
        },
        "outputId": "d7d77f56-23bb-44ae-951e-78a3233df2a6"
      },
      "execution_count": 17,
      "outputs": [
        {
          "output_type": "stream",
          "name": "stdout",
          "text": [
            "[('C#', 336), ('Less', 5), ('Terra', 1), ('Hack', 1), ('Rich Text Format', 3)]\n"
          ]
        }
      ]
    },
    {
      "cell_type": "code",
      "source": [
        "conn.close()\n"
      ],
      "metadata": {
        "id": "VAvoJsBtiO7y"
      },
      "execution_count": 18,
      "outputs": []
    }
  ]
}